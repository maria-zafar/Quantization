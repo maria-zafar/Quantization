{
  "cells": [
    {
      "cell_type": "markdown",
      "metadata": {
        "id": "wmK7m4DmvtVe"
      },
      "source": [
        "Step 1: First you will walk through code to quantize tensors. We will do a limited form of post training quantization, where we only will quantize the inputs passing between layers\n",
        "\n",
        "What is quantization in this scenario? \n",
        "\n",
        "1. It means given a range of values, $X = \\{x_1, x_2, \\ldots x_n \\}$ and a desired precision of $k$ bits. \n",
        "\n",
        "2. Find the minimum and maximum values of X, $x_{max}$ and $x_{min}$.\n",
        "\n",
        "3. Find the minimum and maximum value of the bits, namely $q_{min}=0$ and $q_{max} = 2^k - 1$.\n",
        "\n",
        "4. Set $scale = (x_{max} - x_{min}) / q_{max}$.\n",
        "\n",
        "5. Note that besides scaling, we also have to consider the _bias_ , or what $0$ will map to. Set $zeropoint$ as follows: \n",
        "\n",
        "  a. If $x_{min} \\geq 0$, $zeropoint = 0$ \\\n",
        "  b. Else if $x_{max} < 0$, $zeropoint = q_{max}$.  \n",
        "  c. Else $zeropoint = - x_{min} / scale$. \\\n",
        "  d. https://docs.openvinotoolkit.org/latest/pot_compression_algorithms_quantization_README.html\n",
        "\n",
        "6. The formula for quantization of $x$ then becomes:\n",
        "$Q(x, bits)=round \\left(\\frac{x}{scale} + zeropoint \\right)$.\n",
        "\n",
        "7. The formula to dequantize becomes:\n",
        "$D_Q(x, scale, zeropoint, num-bits) = scale* \\left(float(x) - zeropoint \\right)$.\n",
        "\n",
        "\n"
      ]
    },
    {
      "cell_type": "markdown",
      "metadata": {
        "id": "ukoICcahaQjR"
      },
      "source": [
        "We work through a quick example. Consider the values $X = [1,3,4,14]$, $k = 4$. \\\n",
        "Then $q_{max} = 15$ and $scale = 13/15$. $zeropoint = 0$. \\\n",
        "The quantization becomes: $round([0, 30/13, 45/13, 195/13]) = [0,2,3,15]$. \n",
        "\n",
        "The dequantization becomes $\\frac{13}{15} * ([0,2,3,15]) = [0, 1.733, 2.6, 13]$."
      ]
    },
    {
      "cell_type": "markdown",
      "metadata": {
        "id": "wcTCYPERzEL9"
      },
      "source": [
        "Qs 1.) Now fill out the following two functions to carry out quantization and dequantization. Verify for the example, but also one or two other reasonable tensors. You may need to use the clamp_ function in `quantize_tensor`, to make sure data remains in the range of $q_{min}$ to $q_{max}$. See https://pytorch.org/docs/stable/tensors.html"
      ]
    },
    {
      "cell_type": "code",
      "execution_count": null,
      "metadata": {
        "id": "Ht55E_i0VfNQ"
      },
      "outputs": [],
      "source": [
        "from collections import namedtuple\n",
        "from torch import tensor\n",
        "\n",
        "QTensor = namedtuple('QTensor', ['tensor', 'scale', 'zero_point'])\n",
        "\n",
        "def calcScaleZeroPoint(min_val, max_val, num_bits=8):\n",
        "  pass\n",
        "  # Return scale and zero point.\n",
        "  # Use formulas 3 and 4 above.\n",
        "  \n",
        "  qmin = 0.\n",
        "  qmax = 2.**num_bits - 1.\n",
        "\n",
        "  scale_next = (max_val - min_val) / (qmax - qmin)\n",
        "\n",
        "  initial_zero_point = qmin - min_val / scale_next\n",
        "  \n",
        "  zero_point_next = 0\n",
        "  if initial_zero_point < qmin:\n",
        "      zero_point_next = qmin\n",
        "  elif initial_zero_point > qmax:\n",
        "      zero_point_next = qmax\n",
        "  else:\n",
        "      zero_point_next = initial_zero_point\n",
        "\n",
        "  zero_point_next = int(zero_point_next)\n",
        "\n",
        "  return scale_next, zero_point_next\n",
        "\n",
        "def quantize_tensor(float_x: tensor, num_bits: int):\n",
        "  pass\n",
        "  # Return a QTensor tuple, with the quantized tensor, scale and zero point as described above.\n",
        "  # Use calcScaleZeroPoint and formula 6 above.\n",
        "  # print(float_x.min().float())\n",
        "  qmin = 0.\n",
        "  qmax = 2.**num_bits - 1.\n",
        "  scale, zero_point = calcScaleZeroPoint(float_x.min(), float_x.max(), num_bits)\n",
        "  q_x = zero_point + float_x / scale\n",
        "  q_x.clamp_(qmin, qmax).round_()\n",
        "  q_x = q_x.round().float()\n",
        "  \n",
        "  return QTensor(tensor=q_x, scale=scale, zero_point=zero_point)\n",
        "\n",
        "\n",
        "def dequantize_tensor(quantized_x: tensor, scale: float, zero_point: float , num_bits: int):\n",
        "  pass\n",
        "  return quantized_x.scale * (quantized_x.tensor.float() - quantized_x.zero_point)\n",
        "  # Return float_tensor. "
      ]
    },
    {
      "cell_type": "markdown",
      "metadata": {
        "id": "b7zggSKQyO2s"
      },
      "source": [
        "# MNIST\n",
        "We now train a basic MNIST model. This code is filled in for you, you do not need to edit this."
      ]
    },
    {
      "cell_type": "code",
      "execution_count": null,
      "metadata": {
        "id": "ATGFZ1Pz7JSx"
      },
      "outputs": [],
      "source": [
        "# You don't need to edit any of this code.\n",
        "from __future__ import print_function\n",
        "import argparse\n",
        "import torch\n",
        "import torch.nn as nn\n",
        "import torch.nn.functional as F\n",
        "import torch.optim as optim\n",
        "from torchvision import datasets, transforms\n",
        "\n",
        "\n",
        "class Net(nn.Module):\n",
        "    def __init__(self, mnist=True):\n",
        "      \n",
        "        super(Net, self).__init__()\n",
        "        if mnist:\n",
        "          num_channels = 1\n",
        "        else:\n",
        "          num_channels = 3\n",
        "          \n",
        "        self.conv1 = nn.Conv2d(num_channels, 20, 5, 1)\n",
        "        self.conv2 = nn.Conv2d(20, 50, 5, 1)\n",
        "        self.fc1 = nn.Linear(4*4*50, 500)\n",
        "        self.fc2 = nn.Linear(500, 10)\n",
        "        \n",
        "      \n",
        "    def forward(self, x):\n",
        "        \n",
        "        x = F.relu(self.conv1(x))\n",
        "        x = F.max_pool2d(x, 2, 2)\n",
        "        x = F.relu(self.conv2(x))\n",
        "        x = F.max_pool2d(x, 2, 2)  \n",
        "        x = x.view(-1, 4*4*50)\n",
        "        x = F.relu(self.fc1(x))\n",
        "        x = self.fc2(x)\n",
        "        return F.log_softmax(x, dim=1)"
      ]
    },
    {
      "cell_type": "code",
      "execution_count": null,
      "metadata": {
        "colab": {
          "base_uri": "https://localhost:8080/"
        },
        "id": "o7u5b5Mi7Rwx",
        "outputId": "2696670e-fd13-4ae7-cd72-e5c30c0be122"
      },
      "outputs": [
        {
          "name": "stdout",
          "output_type": "stream",
          "text": [
            "Train Epoch: 1 [0/60000 (0%)]\tLoss: 2.292215\n",
            "Train Epoch: 1 [32000/60000 (53%)]\tLoss: 0.256712\n",
            "\n",
            "Test set: Average loss: 0.1188, Accuracy: 9629/10000 (96%)\n",
            "\n",
            "Train Epoch: 2 [0/60000 (0%)]\tLoss: 0.128099\n",
            "Train Epoch: 2 [32000/60000 (53%)]\tLoss: 0.056988\n",
            "\n",
            "Test set: Average loss: 0.0747, Accuracy: 9748/10000 (97%)\n",
            "\n",
            "Train Epoch: 3 [0/60000 (0%)]\tLoss: 0.057497\n",
            "Train Epoch: 3 [32000/60000 (53%)]\tLoss: 0.027831\n",
            "\n",
            "Test set: Average loss: 0.0514, Accuracy: 9843/10000 (98%)\n",
            "\n",
            "Train Epoch: 4 [0/60000 (0%)]\tLoss: 0.041566\n",
            "Train Epoch: 4 [32000/60000 (53%)]\tLoss: 0.019716\n",
            "\n",
            "Test set: Average loss: 0.0464, Accuracy: 9833/10000 (98%)\n",
            "\n",
            "Train Epoch: 5 [0/60000 (0%)]\tLoss: 0.024306\n",
            "Train Epoch: 5 [32000/60000 (53%)]\tLoss: 0.009650\n",
            "\n",
            "Test set: Average loss: 0.0326, Accuracy: 9886/10000 (99%)\n",
            "\n"
          ]
        }
      ],
      "source": [
        "# You don't need to edit any of the code here.\n",
        "def train(args, model, device, train_loader, optimizer, epoch):\n",
        "    model.train()\n",
        "    for batch_idx, (data, target) in enumerate(train_loader):\n",
        "        data, target = data.to(device), target.to(device)\n",
        "        optimizer.zero_grad()\n",
        "        output = model(data)\n",
        "        loss = F.nll_loss(output, target)\n",
        "        loss.backward()\n",
        "        optimizer.step()\n",
        "        \n",
        "   \n",
        "        if batch_idx % args[\"log_interval\"] == 0:\n",
        "            print('Train Epoch: {} [{}/{} ({:.0f}%)]\\tLoss: {:.6f}'.format(\n",
        "                epoch, batch_idx * len(data), len(train_loader.dataset),\n",
        "                100. * batch_idx / len(train_loader), loss.item()))\n",
        "\n",
        "def test(args, model, device, test_loader):\n",
        "    model.eval()\n",
        "    test_loss = 0\n",
        "    correct = 0\n",
        "    with torch.no_grad():\n",
        "        for data, target in test_loader:\n",
        "            data, target = data.to(device), target.to(device)\n",
        "            output = model(data)\n",
        "            test_loss += F.nll_loss(output, target, reduction='sum').item() # sum up batch loss\n",
        "            pred = output.argmax(dim=1, keepdim=True) # get the index of the max log-probability\n",
        "            correct += pred.eq(target.view_as(pred)).sum().item()\n",
        "\n",
        "    test_loss /= len(test_loader.dataset)\n",
        "\n",
        "    print('\\nTest set: Average loss: {:.4f}, Accuracy: {}/{} ({:.0f}%)\\n'.format(\n",
        "        test_loss, correct, len(test_loader.dataset),\n",
        "        100. * correct / len(test_loader.dataset)))\n",
        "\n",
        "def main():\n",
        "  \n",
        "    batch_size = 64\n",
        "    test_batch_size = 64\n",
        "    \n",
        "    epochs = 5\n",
        "    lr = 0.01\n",
        "    momentum = 0.5\n",
        "    seed = 1\n",
        "    log_interval = 500\n",
        "    save_model = False\n",
        "    no_cuda = False\n",
        "    \n",
        "    use_cuda = not no_cuda and torch.cuda.is_available()\n",
        "\n",
        "    torch.manual_seed(seed)\n",
        "\n",
        "    device = torch.device(\"cuda\" if use_cuda else \"cpu\")\n",
        "\n",
        "    kwargs = {'num_workers': 1, 'pin_memory': True} if use_cuda else {}\n",
        "    train_loader = torch.utils.data.DataLoader(\n",
        "        datasets.MNIST('../data', train=True, download=True,\n",
        "                       transform=transforms.Compose([\n",
        "                           transforms.ToTensor(),\n",
        "                           transforms.Normalize((0.1307,), (0.3081,))\n",
        "                       ])),\n",
        "        batch_size=batch_size, shuffle=True, **kwargs)\n",
        "    \n",
        "    test_loader = torch.utils.data.DataLoader(\n",
        "        datasets.MNIST('../data', train=False, transform=transforms.Compose([\n",
        "                           transforms.ToTensor(),\n",
        "                           transforms.Normalize((0.1307,), (0.3081,))\n",
        "                       ])),\n",
        "        batch_size=test_batch_size, shuffle=True, **kwargs)\n",
        "    \n",
        "  \n",
        "    model = Net().to(device)\n",
        "    optimizer = optim.SGD(model.parameters(), lr=lr, momentum=momentum)\n",
        "    args = {}\n",
        "    args[\"log_interval\"] = log_interval\n",
        "    for epoch in range(1, epochs + 1):\n",
        "        train(args, model, device, train_loader, optimizer, epoch)\n",
        "        test(args, model, device, test_loader)\n",
        "\n",
        "    if (save_model):\n",
        "        torch.save(model.state_dict(),\"mnist_cnn.pt\")\n",
        "    \n",
        "    return model\n",
        "\n",
        "model = main()"
      ]
    },
    {
      "cell_type": "markdown",
      "metadata": {
        "id": "rxba5Ahzi9Y4"
      },
      "source": [
        "The below is test functions for your code. You should not need to edit these. Make sure your `quantize_tensor` function is returning a QTensor namedtuple."
      ]
    },
    {
      "cell_type": "code",
      "execution_count": null,
      "metadata": {
        "id": "qwYAWBirA7rI"
      },
      "outputs": [],
      "source": [
        "# These are driver functions for your code. You do not need to edit.\n",
        "def quantForward(model, input, num_bits):\n",
        "  quantized_input = quantize_tensor(input, num_bits)\n",
        "  output_1  = F.relu(model.conv1(quantized_input.tensor))\n",
        "  output_2 = F.max_pool2d(quantize_tensor(output_1, num_bits).tensor, 2, 2)\n",
        "  output_3 = F.relu(model.conv2(quantize_tensor(output_2, num_bits).tensor))\n",
        "  output_4 = F.max_pool2d(quantize_tensor(output_3, num_bits).tensor, 2, 2)\n",
        "  output_5 = output_4.view(-1, 4*4*50)\n",
        "  output_6 = F.relu(model.fc1(quantize_tensor(output_5, num_bits).tensor))\n",
        "  output_7 = model.fc2(quantize_tensor(output_6, num_bits).tensor)\n",
        "  return F.log_softmax(quantize_tensor(output_7, num_bits).tensor, dim=1)\n",
        "\n",
        "def testQuant(model, test_loader, quant=False, num_bits=8):\n",
        "    device = 'cuda'\n",
        "    \n",
        "    model.eval()\n",
        "    test_loss = 0\n",
        "    correct = 0\n",
        "    with torch.no_grad():\n",
        "        for data, target in test_loader:\n",
        "            data, target = data.to(device), target.to(device)\n",
        "            if quant:\n",
        "              output = quantForward(model, data, num_bits)\n",
        "            else:\n",
        "              output = model(data)\n",
        "            test_loss += F.nll_loss(output, target, reduction='sum').item() # sum up batch loss\n",
        "            pred = output.argmax(dim=1, keepdim=True) # get the index of the max log-probability\n",
        "            correct += pred.eq(target.view_as(pred)).sum().item()\n",
        "\n",
        "    test_loss /= len(test_loader.dataset)\n",
        "\n",
        "    print('\\nTest set: Average loss: {:.4f}, Accuracy: {}/{} ({:.0f}%)\\n'.format(\n",
        "        test_loss, correct, len(test_loader.dataset),\n",
        "        100. * correct / len(test_loader.dataset)))\n",
        "    return test_loss, correct"
      ]
    },
    {
      "cell_type": "code",
      "execution_count": null,
      "metadata": {
        "id": "qPrTvxdnyl4f"
      },
      "outputs": [],
      "source": [
        "kwargs = {'num_workers': 1, 'pin_memory': True}\n",
        "test_loader = torch.utils.data.DataLoader(\n",
        "    datasets.MNIST('../data', train=False, transform=transforms.Compose([\n",
        "                       transforms.ToTensor(),\n",
        "                       transforms.Normalize((0.1307,), (0.3081,))\n",
        "                   ])),\n",
        "    batch_size=64, shuffle=True, **kwargs)"
      ]
    },
    {
      "cell_type": "code",
      "execution_count": null,
      "metadata": {
        "colab": {
          "base_uri": "https://localhost:8080/"
        },
        "id": "B3i7q_i97NZr",
        "outputId": "9f180161-a015-4a61-8daa-45cdfc55a96c"
      },
      "outputs": [
        {
          "name": "stdout",
          "output_type": "stream",
          "text": [
            "\n",
            "Test set: Average loss: 0.1194, Accuracy: 9885/10000 (99%)\n",
            "\n"
          ]
        }
      ],
      "source": [
        "loss,correct=testQuant(model, test_loader, quant=True, num_bits=8)"
      ]
    },
    {
      "cell_type": "markdown",
      "metadata": {
        "id": "b0siI9tMC3HR"
      },
      "source": [
        "Qs. 2 Can you plot how the accuracy changes as you alter the number of bits used for quantization? Try values between 1 and 16 bits."
      ]
    },
    {
      "cell_type": "code",
      "execution_count": null,
      "metadata": {
        "colab": {
          "base_uri": "https://localhost:8080/"
        },
        "id": "q32_0eOW2Wli",
        "outputId": "a989ded4-a71b-4656-ba29-82ad1aab898b"
      },
      "outputs": [
        {
          "name": "stdout",
          "output_type": "stream",
          "text": [
            "\n",
            "Test set: Average loss: 30.3704, Accuracy: 9887/10000 (99%)\n",
            "\n"
          ]
        }
      ],
      "source": [
        "loss,correct=testQuant(model, test_loader, quant=True, num_bits=16)"
      ]
    },
    {
      "cell_type": "code",
      "execution_count": null,
      "metadata": {
        "colab": {
          "base_uri": "https://localhost:8080/"
        },
        "id": "l4t3tGtCfPd5",
        "outputId": "5a297a68-f6c9-419f-f694-03bd2cfbd73f"
      },
      "outputs": [
        {
          "name": "stdout",
          "output_type": "stream",
          "text": [
            "number of bits 1\n",
            "\n",
            "Test set: Average loss: 2.2900, Accuracy: 1098/10000 (11%)\n",
            "\n",
            "number of bits 2\n",
            "\n",
            "Test set: Average loss: 1.4449, Accuracy: 8632/10000 (86%)\n",
            "\n",
            "number of bits 3\n",
            "\n",
            "Test set: Average loss: 0.6697, Accuracy: 9615/10000 (96%)\n",
            "\n",
            "number of bits 4\n",
            "\n",
            "Test set: Average loss: 0.1597, Accuracy: 9830/10000 (98%)\n",
            "\n",
            "number of bits 5\n",
            "\n",
            "Test set: Average loss: 0.0403, Accuracy: 9871/10000 (99%)\n",
            "\n",
            "number of bits 6\n",
            "\n",
            "Test set: Average loss: 0.0361, Accuracy: 9887/10000 (99%)\n",
            "\n",
            "number of bits 7\n",
            "\n",
            "Test set: Average loss: 0.0614, Accuracy: 9889/10000 (99%)\n",
            "\n",
            "number of bits 8\n",
            "\n",
            "Test set: Average loss: 0.1199, Accuracy: 9886/10000 (99%)\n",
            "\n",
            "number of bits 9\n",
            "\n",
            "Test set: Average loss: 0.2372, Accuracy: 9886/10000 (99%)\n",
            "\n",
            "number of bits 10\n",
            "\n",
            "Test set: Average loss: 0.4699, Accuracy: 9887/10000 (99%)\n",
            "\n",
            "number of bits 11\n",
            "\n",
            "Test set: Average loss: 0.9506, Accuracy: 9887/10000 (99%)\n",
            "\n",
            "number of bits 12\n",
            "\n",
            "Test set: Average loss: 1.8937, Accuracy: 9887/10000 (99%)\n",
            "\n",
            "number of bits 13\n",
            "\n",
            "Test set: Average loss: 3.7778, Accuracy: 9887/10000 (99%)\n",
            "\n",
            "number of bits 14\n",
            "\n",
            "Test set: Average loss: 7.5858, Accuracy: 9887/10000 (99%)\n",
            "\n",
            "number of bits 15\n",
            "\n",
            "Test set: Average loss: 15.1439, Accuracy: 9887/10000 (99%)\n",
            "\n",
            "number of bits 16\n",
            "\n",
            "Test set: Average loss: 30.3152, Accuracy: 9887/10000 (99%)\n",
            "\n"
          ]
        }
      ],
      "source": [
        "losses=[]\n",
        "correct_ans=[]\n",
        "percentage=[]\n",
        "for i in range(1,17):\n",
        "  print(\"number of bits\", i)\n",
        "  loss,correct=testQuant(model, test_loader, quant=True, num_bits=i)\n",
        "  losses.append(loss)\n",
        "  correct_ans.append(correct)\n",
        "  percentage.append((correct/10000)*100)"
      ]
    },
    {
      "cell_type": "code",
      "execution_count": null,
      "metadata": {
        "colab": {
          "base_uri": "https://localhost:8080/",
          "height": 353
        },
        "id": "0dTP6QkdTh6f",
        "outputId": "b5b5b726-35ed-4250-a19f-75b5ddb798e2"
      },
      "outputs": [
        {
          "data": {
            "text/plain": [
              "Text(0.5, 1.0, 'Loss')"
            ]
          },
          "execution_count": 95,
          "metadata": {
            "tags": []
          },
          "output_type": "execute_result"
        },
        {
          "data": {
            "image/png": "[encoded data removed]",
            "text/plain": [
              "<Figure size 1080x360 with 1 Axes>"
            ]
          },
          "metadata": {
            "needs_background": "light",
            "tags": []
          },
          "output_type": "display_data"
        }
      ],
      "source": [
        "import matplotlib.pyplot as plt\n",
        "fig = plt.figure(figsize=(15, 5))\n",
        "plt.plot(losses)\n",
        "plt.grid(True)\n",
        "plt.title('Loss')"
      ]
    },
    {
      "cell_type": "code",
      "execution_count": null,
      "metadata": {
        "colab": {
          "base_uri": "https://localhost:8080/",
          "height": 353
        },
        "id": "6xG8TToohQzh",
        "outputId": "9d3cbc56-587d-4e97-a50e-78af935fd7ef"
      },
      "outputs": [
        {
          "data": {
            "text/plain": [
              "Text(0.5, 1.0, 'Accuracy')"
            ]
          },
          "execution_count": 96,
          "metadata": {
            "tags": []
          },
          "output_type": "execute_result"
        },
        {
          "data": {
            "image/png": "[encoded data removed]",
            "text/plain": [
              "<Figure size 1080x360 with 1 Axes>"
            ]
          },
          "metadata": {
            "needs_background": "light",
            "tags": []
          },
          "output_type": "display_data"
        }
      ],
      "source": [
        "import matplotlib.pyplot as plt\n",
        "fig = plt.figure(figsize=(15, 5))\n",
        "plt.plot(percentage)\n",
        "plt.grid(True)\n",
        "plt.title('Accuracy')"
      ]
    }
  ],
  "metadata": {
    "accelerator": "GPU",
    "colab": {
      "collapsed_sections": [],
      "name": "DSPD_Homework_2_Maria.ipynb",
      "provenance": []
    },
    "kernelspec": {
      "display_name": "Python 3",
      "language": "python",
      "name": "python3"
    },
    "language_info": {
      "codemirror_mode": {
        "name": "ipython",
        "version": 3
      },
      "file_extension": ".py",
      "mimetype": "text/x-python",
      "name": "python",
      "nbconvert_exporter": "python",
      "pygments_lexer": "ipython3",
      "version": "3.8.3"
    }
  },
  "nbformat": 4,
  "nbformat_minor": 0
}
